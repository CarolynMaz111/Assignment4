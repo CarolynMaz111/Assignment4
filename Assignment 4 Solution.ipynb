{
 "cells": [
  {
   "cell_type": "code",
   "execution_count": 1,
   "metadata": {},
   "outputs": [],
   "source": [
    "# Validation Function\n",
    "def RPSValidate(input):\n",
    "    input = input.lower()\n",
    "    if input not in('rock','paper','scissors'):\n",
    "        return 'input error'\n",
    "    else:\n",
    "        return input"
   ]
  },
  {
   "cell_type": "code",
   "execution_count": 2,
   "metadata": {},
   "outputs": [],
   "source": [
    "# Game Execute Function\n",
    "def RPSExecute(player1, player2):\n",
    "    if player1 == player2:\n",
    "        return 0\n",
    "    elif player1 == 'rock' and player2 == 'scissors' \\\n",
    "    or player1 == 'scissors' and player2 == 'paper' \\\n",
    "    or player1 == 'paper' and player2 == 'rock':\n",
    "        return 1\n",
    "    else:\n",
    "        return 2"
   ]
  },
  {
   "cell_type": "code",
   "execution_count": 6,
   "metadata": {},
   "outputs": [
    {
     "name": "stdout",
     "output_type": "stream",
     "text": [
      "Player 1 - Provide game input: sad\n",
      "Player 1 - Provide game input: sad\n",
      "Player 1 - Provide game input: asd\n",
      "Input Error Player 1\n",
      "Player 2 - Provide game input: \n",
      "Player 2 - Provide game input: \n",
      "Player 2 - Provide game input: \n",
      "Input Error Player 2\n",
      "Invalid input provided. Cannot execute game\n"
     ]
    }
   ],
   "source": [
    "# Variables for game process\n",
    "# Flag to indicate whether the player inout is valid\n",
    "isP1Valid = False\n",
    "isP2Valid = False\n",
    "# Counter variables for loops\n",
    "p1Count = 0\n",
    "p2Count = 0\n",
    "# Inputs from players\n",
    "p1Input = ''\n",
    "p2Inout = ''\n",
    "\n",
    "while (p1Count <3):\n",
    "    p1Input = input('Player 1 - Provide game input: ')\n",
    "    p1Input = RPSValidate(p1Input)\n",
    "    if p1Input == 'input error': \n",
    "        p1Count += 1\n",
    "        # In final loop, if it is still not correct, alert the user\n",
    "        if p1Count == 3: print ('Input Error Player 1')\n",
    "    else:\n",
    "        # Only set flag to True when a validated response is returned\n",
    "        isP1Valid = True\n",
    "        break\n",
    "\n",
    "while (p2Count <3):\n",
    "    p2Input = input('Player 2 - Provide game input: ')\n",
    "    p2Input = RPSValidate(p2Input)\n",
    "    if p2Input == 'input error':\n",
    "        p2Count += 1\n",
    "        # In final loop, if it is still not correct, alert the user\n",
    "        if p2Count == 3: print ('Input Error Player 2')\n",
    "    else:\n",
    "        # Only set flag to True when a validated response is returned\n",
    "        isP2Valid = True\n",
    "        break    \n",
    "\n",
    "if isP1Valid and isP2Valid:\n",
    "    winner = RPSExecute(p1Input, p2Input)\n",
    "    if winner == 0:\n",
    "        print ('Players tie')\n",
    "    elif winner == 1:\n",
    "        print ('Player 1 wins')\n",
    "    else:\n",
    "        print ('Player 2 wins')\n",
    "else:\n",
    "    print (\"Invalid input provided. Cannot execute game\")"
   ]
  },
  {
   "cell_type": "code",
   "execution_count": null,
   "metadata": {},
   "outputs": [],
   "source": []
  },
  {
   "cell_type": "code",
   "execution_count": null,
   "metadata": {},
   "outputs": [],
   "source": []
  }
 ],
 "metadata": {
  "kernelspec": {
   "display_name": "Python 3",
   "language": "python",
   "name": "python3"
  },
  "language_info": {
   "codemirror_mode": {
    "name": "ipython",
    "version": 3
   },
   "file_extension": ".py",
   "mimetype": "text/x-python",
   "name": "python",
   "nbconvert_exporter": "python",
   "pygments_lexer": "ipython3",
   "version": "3.7.3"
  }
 },
 "nbformat": 4,
 "nbformat_minor": 2
}
